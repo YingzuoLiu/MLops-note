{
 "cells": [
  {
   "cell_type": "markdown",
   "id": "786e1e80",
   "metadata": {},
   "source": [
    "# CIFAR-10: TensorFlow Lite Quantization Benchmark\n",
    "\n",
    "This notebook trains a small CNN on CIFAR-10, converts it to multiple TensorFlow Lite (TFLite) formats, and compares accuracy, file size, and throughput.\n",
    "\n",
    "**Variants**\n",
    "- Keras FP32 (baseline)\n",
    "- TFLite FP32 (no quantization)\n",
    "- TFLite FP16 (float16) quantization\n",
    "- TFLite INT8 Dynamic Range quantization\n",
    "- TFLite INT8 Full Integer quantization (with representative dataset)\n",
    "\n",
    "You can tweak `EPOCHS`, `MAX_EVAL_SAMPLES`, and model size to balance runtime vs. accuracy.\n",
    "\n",
    "**Requirements**: `tensorflow>=2.10`, `numpy`, `matplotlib` (for optional plots)\n"
   ]
  },
  {
   "cell_type": "code",
   "execution_count": 1,
   "id": "fdfb2205",
   "metadata": {},
   "outputs": [
    {
     "name": "stdout",
     "output_type": "stream",
     "text": [
      "WARNING:tensorflow:From c:\\Users\\liuzu\\anaconda3\\envs\\tf_env\\lib\\site-packages\\keras\\src\\losses.py:2976: The name tf.losses.sparse_softmax_cross_entropy is deprecated. Please use tf.compat.v1.losses.sparse_softmax_cross_entropy instead.\n",
      "\n",
      "TensorFlow: 2.15.0\n"
     ]
    }
   ],
   "source": [
    "#@title Setup (imports & hyperparameters)\n",
    "import os, time, tempfile, numpy as np\n",
    "import tensorflow as tf\n",
    "from pathlib import Path\n",
    "\n",
    "EPOCHS = 3                 #@param {type:\"integer\"}\n",
    "BATCH_SIZE = 128           #@param {type:\"integer\"}\n",
    "MAX_EVAL_SAMPLES = 2000    #@param {type:\"integer\"}\n",
    "SEED = 42                  #@param {type:\"integer\"}\n",
    "np.random.seed(SEED)\n",
    "tf.random.set_seed(SEED)\n",
    "print('TensorFlow:', tf.__version__)"
   ]
  },
  {
   "cell_type": "code",
   "execution_count": 3,
   "id": "6f9f4d1a",
   "metadata": {},
   "outputs": [
    {
     "name": "stdout",
     "output_type": "stream",
     "text": [
      "A local file was found, but it seems to be incomplete or outdated because the auto file hash does not match the original value of 6d958be074577803d12ecdefd02955f39262c83c16fe9348329d7fe0b5c001ce so we will re-download the data.\n",
      "Downloading data from https://www.cs.toronto.edu/~kriz/cifar-10-python.tar.gz\n",
      "170498071/170498071 [==============================] - 46s 0us/step\n",
      "Train: (50000, 32, 32, 3) Test: (10000, 32, 32, 3) Eval: (2000, 32, 32, 3)\n"
     ]
    }
   ],
   "source": [
    "#@title Load CIFAR-10 from Tsinghua Mirror\n",
    "import os\n",
    "os.environ[\"CIFAR10_URL\"] = \"https://mirror.cs.tuna.tsinghua.edu.cn/keras/datasets/cifar-10-batches-py.tar.gz\"\n",
    "\n",
    "from tensorflow.keras.datasets import cifar10\n",
    "#@title Load CIFAR-10\n",
    "(x_train, y_train), (x_test, y_test) = tf.keras.datasets.cifar10.load_data()\n",
    "y_train = y_train.flatten()\n",
    "y_test = y_test.flatten()\n",
    "\n",
    "# Normalize to [0,1]\n",
    "x_train = x_train.astype('float32') / 255.0\n",
    "x_test  = x_test.astype('float32') / 255.0\n",
    "\n",
    "if MAX_EVAL_SAMPLES is not None and MAX_EVAL_SAMPLES < len(x_test):\n",
    "    idx = np.random.permutation(len(x_test))[:MAX_EVAL_SAMPLES]\n",
    "    x_eval = x_test[idx]\n",
    "    y_eval = y_test[idx]\n",
    "else:\n",
    "    x_eval, y_eval = x_test, y_test\n",
    "print('Train:', x_train.shape, 'Test:', x_test.shape, 'Eval:', x_eval.shape)"
   ]
  },
  {
   "cell_type": "code",
   "execution_count": 4,
   "id": "40d4e0ef",
   "metadata": {},
   "outputs": [
    {
     "name": "stdout",
     "output_type": "stream",
     "text": [
      "WARNING:tensorflow:From c:\\Users\\liuzu\\anaconda3\\envs\\tf_env\\lib\\site-packages\\keras\\src\\backend.py:1398: The name tf.executing_eagerly_outside_functions is deprecated. Please use tf.compat.v1.executing_eagerly_outside_functions instead.\n",
      "\n",
      "WARNING:tensorflow:From c:\\Users\\liuzu\\anaconda3\\envs\\tf_env\\lib\\site-packages\\keras\\src\\layers\\pooling\\max_pooling2d.py:161: The name tf.nn.max_pool is deprecated. Please use tf.nn.max_pool2d instead.\n",
      "\n",
      "Model: \"model\"\n",
      "_________________________________________________________________\n",
      " Layer (type)                Output Shape              Param #   \n",
      "=================================================================\n",
      " input_1 (InputLayer)        [(None, 32, 32, 3)]       0         \n",
      "                                                                 \n",
      " conv2d (Conv2D)             (None, 32, 32, 32)        896       \n",
      "                                                                 \n",
      " max_pooling2d (MaxPooling2  (None, 16, 16, 32)        0         \n",
      " D)                                                              \n",
      "                                                                 \n",
      " conv2d_1 (Conv2D)           (None, 16, 16, 64)        18496     \n",
      "                                                                 \n",
      " max_pooling2d_1 (MaxPoolin  (None, 8, 8, 64)          0         \n",
      " g2D)                                                            \n",
      "                                                                 \n",
      " conv2d_2 (Conv2D)           (None, 8, 8, 128)         73856     \n",
      "                                                                 \n",
      " global_average_pooling2d (  (None, 128)               0         \n",
      " GlobalAveragePooling2D)                                         \n",
      "                                                                 \n",
      " dropout (Dropout)           (None, 128)               0         \n",
      "                                                                 \n",
      " dense (Dense)               (None, 10)                1290      \n",
      "                                                                 \n",
      "=================================================================\n",
      "Total params: 94538 (369.29 KB)\n",
      "Trainable params: 94538 (369.29 KB)\n",
      "Non-trainable params: 0 (0.00 Byte)\n",
      "_________________________________________________________________\n",
      "Epoch 1/3\n",
      "WARNING:tensorflow:From c:\\Users\\liuzu\\anaconda3\\envs\\tf_env\\lib\\site-packages\\keras\\src\\utils\\tf_utils.py:492: The name tf.ragged.RaggedTensorValue is deprecated. Please use tf.compat.v1.ragged.RaggedTensorValue instead.\n",
      "\n",
      "WARNING:tensorflow:From c:\\Users\\liuzu\\anaconda3\\envs\\tf_env\\lib\\site-packages\\keras\\src\\engine\\base_layer_utils.py:384: The name tf.executing_eagerly_outside_functions is deprecated. Please use tf.compat.v1.executing_eagerly_outside_functions instead.\n",
      "\n",
      "352/352 - 11s - loss: 1.9257 - accuracy: 0.2706 - val_loss: 1.6781 - val_accuracy: 0.3794 - 11s/epoch - 30ms/step\n",
      "Epoch 2/3\n",
      "352/352 - 9s - loss: 1.6822 - accuracy: 0.3706 - val_loss: 1.6034 - val_accuracy: 0.4154 - 9s/epoch - 26ms/step\n",
      "Epoch 3/3\n",
      "352/352 - 9s - loss: 1.5745 - accuracy: 0.4178 - val_loss: 1.4494 - val_accuracy: 0.4768 - 9s/epoch - 25ms/step\n",
      "[Keras FP32] accuracy on eval set: 0.4615\n"
     ]
    }
   ],
   "source": [
    "#@title Define & Train a Small CNN\n",
    "def make_small_cnn():\n",
    "    inputs = tf.keras.Input(shape=(32, 32, 3))\n",
    "    x = tf.keras.layers.Conv2D(32, 3, activation='relu', padding='same')(inputs)\n",
    "    x = tf.keras.layers.MaxPooling2D()(x)\n",
    "    x = tf.keras.layers.Conv2D(64, 3, activation='relu', padding='same')(x)\n",
    "    x = tf.keras.layers.MaxPooling2D()(x)\n",
    "    x = tf.keras.layers.Conv2D(128, 3, activation='relu', padding='same')(x)\n",
    "    x = tf.keras.layers.GlobalAveragePooling2D()(x)\n",
    "    x = tf.keras.layers.Dropout(0.3)(x)\n",
    "    outputs = tf.keras.layers.Dense(10, activation='softmax')(x)\n",
    "    model = tf.keras.Model(inputs, outputs)\n",
    "    model.compile(optimizer=tf.keras.optimizers.Adam(1e-3),\n",
    "                  loss='sparse_categorical_crossentropy',\n",
    "                  metrics=['accuracy'])\n",
    "    return model\n",
    "\n",
    "model = make_small_cnn()\n",
    "model.summary()\n",
    "history = model.fit(\n",
    "    x_train, y_train,\n",
    "    epochs=EPOCHS,\n",
    "    batch_size=BATCH_SIZE,\n",
    "    validation_split=0.1,\n",
    "    verbose=2\n",
    ")\n",
    "base_loss, base_acc = model.evaluate(x_eval, y_eval, verbose=0)\n",
    "print(f'[Keras FP32] accuracy on eval set: {base_acc:.4f}')"
   ]
  },
  {
   "cell_type": "code",
   "execution_count": 5,
   "id": "57ddcaff",
   "metadata": {},
   "outputs": [
    {
     "name": "stdout",
     "output_type": "stream",
     "text": [
      "INFO:tensorflow:Assets written to: C:\\Users\\liuzu\\AppData\\Local\\Temp\\tmp7inngbx8\\assets\n"
     ]
    },
    {
     "name": "stderr",
     "output_type": "stream",
     "text": [
      "INFO:tensorflow:Assets written to: C:\\Users\\liuzu\\AppData\\Local\\Temp\\tmp7inngbx8\\assets\n"
     ]
    },
    {
     "name": "stdout",
     "output_type": "stream",
     "text": [
      "SavedModel exported to: C:\\Users\\liuzu\\AppData\\Local\\Temp\\tmp7inngbx8\n"
     ]
    }
   ],
   "source": [
    "#@title Export SavedModel\n",
    "saved_dir = tempfile.mkdtemp()\n",
    "model.save(saved_dir, include_optimizer=False)\n",
    "print('SavedModel exported to:', saved_dir)"
   ]
  },
  {
   "cell_type": "code",
   "execution_count": 6,
   "id": "82bf45c2",
   "metadata": {},
   "outputs": [],
   "source": [
    "#@title Helper Functions: TFLite Conversion & Inference\n",
    "def get_file_size(path):\n",
    "    return os.path.getsize(path) / 1024.0 / 1024.0  # MB\n",
    "\n",
    "def tflite_infer(interpreter, images, labels):\n",
    "    input_details = interpreter.get_input_details()[0]\n",
    "    output_details = interpreter.get_output_details()[0]\n",
    "    input_index = input_details['index']\n",
    "    output_index = output_details['index']\n",
    "    scale, zero_point = input_details['quantization']\n",
    "    is_quant_input = (input_details['dtype'] in [np.uint8, np.int8])\n",
    "\n",
    "    correct = 0\n",
    "    n = len(images)\n",
    "    start = time.time()\n",
    "    for i in range(n):\n",
    "        img = images[i:i+1]\n",
    "        if is_quant_input:\n",
    "            if input_details['dtype'] == np.uint8:\n",
    "                q = np.clip(np.round(img / scale + zero_point), 0, 255).astype(np.uint8)\n",
    "            else:\n",
    "                q = np.clip(np.round(img / scale + zero_point), -128, 127).astype(np.int8)\n",
    "            inp = q\n",
    "        else:\n",
    "            inp = img.astype(input_details['dtype'])\n",
    "\n",
    "        if list(inp.shape) != list(input_details['shape']):\n",
    "            interpreter.resize_tensor_input(input_index, inp.shape)\n",
    "            interpreter.allocate_tensors()\n",
    "\n",
    "        interpreter.set_tensor(input_index, inp)\n",
    "        interpreter.invoke()\n",
    "        pred = interpreter.get_tensor(output_index)\n",
    "        pred_label = np.argmax(pred, axis=1)[0]\n",
    "        if pred_label == labels[i]:\n",
    "            correct += 1\n",
    "\n",
    "    elapsed = time.time() - start\n",
    "    acc = correct / n\n",
    "    ips = n / elapsed if elapsed > 0 else float('inf')\n",
    "    return acc, elapsed, ips\n",
    "\n",
    "def convert_tflite(saved_model_dir, mode='fp32'):\n",
    "    converter = tf.lite.TFLiteConverter.from_saved_model(saved_model_dir)\n",
    "    if mode == 'fp32':\n",
    "        pass\n",
    "    elif mode == 'fp16':\n",
    "        converter.optimizations = [tf.lite.Optimize.DEFAULT]\n",
    "        converter.target_spec.supported_types = [tf.float16]\n",
    "    elif mode == 'int8_dynamic':\n",
    "        converter.optimizations = [tf.lite.Optimize.DEFAULT]\n",
    "    elif mode == 'int8_full':\n",
    "        converter.optimizations = [tf.lite.Optimize.DEFAULT]\n",
    "        def representative_data_gen():\n",
    "            for i in range(200):\n",
    "                idx = np.random.randint(0, len(x_train))\n",
    "                sample = x_train[idx:idx+1]\n",
    "                yield [sample.astype(np.float32)]\n",
    "        converter.representative_dataset = representative_data_gen\n",
    "        converter.target_spec.supported_ops = [tf.lite.OpsSet.TFLITE_BUILTINS_INT8]\n",
    "        converter.inference_input_type  = tf.int8\n",
    "        converter.inference_output_type = tf.int8\n",
    "    else:\n",
    "        raise ValueError('Unknown mode: ' + mode)\n",
    "    tflite_model = converter.convert()\n",
    "    tfile = os.path.join(tempfile.mkdtemp(), f'model_{mode}.tflite')\n",
    "    with open(tfile, 'wb') as f:\n",
    "        f.write(tflite_model)\n",
    "    return tfile"
   ]
  },
  {
   "cell_type": "code",
   "execution_count": 7,
   "id": "2c8d01e6",
   "metadata": {},
   "outputs": [
    {
     "name": "stdout",
     "output_type": "stream",
     "text": [
      "Exported fp32: C:\\Users\\liuzu\\AppData\\Local\\Temp\\tmpqhfc8r0l\\model_fp32.tflite\n",
      "Exported fp16: C:\\Users\\liuzu\\AppData\\Local\\Temp\\tmpkvy1dvce\\model_fp16.tflite\n",
      "Exported int8_dynamic: C:\\Users\\liuzu\\AppData\\Local\\Temp\\tmphafe8ci3\\model_int8_dynamic.tflite\n",
      "Exported int8_full: C:\\Users\\liuzu\\AppData\\Local\\Temp\\tmpoibb315c\\model_int8_full.tflite\n"
     ]
    }
   ],
   "source": [
    "#@title Convert: FP32 / FP16 / INT8 (dynamic) / INT8 (full)\n",
    "paths = {}\n",
    "modes = ['fp32', 'fp16', 'int8_dynamic', 'int8_full']\n",
    "for m in modes:\n",
    "    try:\n",
    "        p = convert_tflite(saved_dir, mode=m)\n",
    "        paths[m] = p\n",
    "        print(f'Exported {m}: {p}')\n",
    "    except Exception as e:\n",
    "        print(f'[WARN] {m} export failed: {e}')"
   ]
  },
  {
   "cell_type": "code",
   "execution_count": 8,
   "id": "79479089",
   "metadata": {},
   "outputs": [
    {
     "name": "stdout",
     "output_type": "stream",
     "text": [
      "\n",
      "=== Evaluating TFLite fp32 ===\n",
      "[TFLite fp32] acc=0.4615, size=0.36 MB, time=1.19s, images/sec=1686.2\n",
      "\n",
      "=== Evaluating TFLite fp16 ===\n",
      "[TFLite fp16] acc=0.4630, size=0.18 MB, time=1.20s, images/sec=1668.6\n",
      "\n",
      "=== Evaluating TFLite int8_dynamic ===\n",
      "[TFLite int8_dynamic] acc=0.4610, size=0.10 MB, time=2.87s, images/sec=697.6\n",
      "\n",
      "=== Evaluating TFLite int8_full ===\n",
      "[TFLite int8_full] acc=0.4630, size=0.10 MB, time=0.77s, images/sec=2605.9\n",
      "\n",
      "====== Summary (eval set size: 2000) ======\n",
      "[Keras FP32] acc=0.4615, size=N/A\n",
      "[TFLite fp32       ] acc=0.4615, size= 0.36 MB, images/sec=1686.2\n",
      "[TFLite fp16       ] acc=0.4630, size= 0.18 MB, images/sec=1668.6\n",
      "[TFLite int8_dynamic] acc=0.4610, size= 0.10 MB, images/sec= 697.6\n",
      "[TFLite int8_full  ] acc=0.4630, size= 0.10 MB, images/sec=2605.9\n"
     ]
    }
   ],
   "source": [
    "#@title Evaluate All Variants\n",
    "results = []\n",
    "for m, p in paths.items():\n",
    "    print(f'\\n=== Evaluating TFLite {m} ===')\n",
    "    interpreter = tf.lite.Interpreter(model_path=p)\n",
    "    interpreter.allocate_tensors()\n",
    "    acc, elapsed, ips = tflite_infer(interpreter, x_eval, y_eval)\n",
    "    size_mb = os.path.getsize(p) / 1024 / 1024\n",
    "    results.append((m, acc, size_mb, elapsed, ips))\n",
    "    print(f'[TFLite {m}] acc={acc:.4f}, size={size_mb:.2f} MB, time={elapsed:.2f}s, images/sec={ips:.1f}')\n",
    "\n",
    "print('\\n====== Summary (eval set size: {}) ======'.format(len(x_eval)))\n",
    "print(f'[Keras FP32] acc={base_acc:.4f}, size=N/A')\n",
    "for m, acc, size_mb, elapsed, ips in results:\n",
    "    print(f'[TFLite {m:11s}] acc={acc:.4f}, size={size_mb:5.2f} MB, images/sec={ips:6.1f}')"
   ]
  },
  {
   "cell_type": "markdown",
   "id": "336adeae",
   "metadata": {},
   "source": [
    "# Visualize Results\n",
    "Run this cell to visualize accuracy and model size comparisons."
   ]
  },
  {
   "cell_type": "code",
   "execution_count": 12,
   "id": "32d3d651",
   "metadata": {},
   "outputs": [
    {
     "data": {
      "image/png": "[encoded data removed]",
      "text/plain": [
       "<Figure size 640x480 with 1 Axes>"
      ]
     },
     "metadata": {},
     "output_type": "display_data"
    },
    {
     "data": {
      "image/png": "[encoded data removed]",
      "text/plain": [
       "<Figure size 640x480 with 1 Axes>"
      ]
     },
     "metadata": {},
     "output_type": "display_data"
    }
   ],
   "source": [
    "#@title Plot Accuracy & Size (Optional)\n",
    "import matplotlib.pyplot as plt\n",
    "labels = [r[0] for r in results]\n",
    "accs = [r[1] for r in results]\n",
    "sizes = [r[2] for r in results]\n",
    "\n",
    "plt.figure()\n",
    "plt.bar(labels, accs)\n",
    "plt.title('Accuracy by TFLite Variant')\n",
    "plt.xlabel('Variant')\n",
    "plt.ylabel('Accuracy')\n",
    "plt.show()\n",
    "\n",
    "plt.figure()\n",
    "plt.bar(labels, sizes)\n",
    "plt.title('Model Size (MB) by TFLite Variant')\n",
    "plt.xlabel('Variant')\n",
    "plt.ylabel('Size (MB)')\n",
    "plt.show()"
   ]
  }
 ],
 "metadata": {
  "kernelspec": {
   "display_name": "tf_env",
   "language": "python",
   "name": "python3"
  },
  "language_info": {
   "codemirror_mode": {
    "name": "ipython",
    "version": 3
   },
   "file_extension": ".py",
   "mimetype": "text/x-python",
   "name": "python",
   "nbconvert_exporter": "python",
   "pygments_lexer": "ipython3",
   "version": "3.10.18"
  }
 },
 "nbformat": 4,
 "nbformat_minor": 5
}
